{
 "cells": [
  {
   "cell_type": "code",
   "execution_count": 3,
   "metadata": {},
   "outputs": [],
   "source": [
    "# imports \n",
    "from bs4 import BeautifulSoup\n",
    "import requests"
   ]
  },
  {
   "cell_type": "code",
   "execution_count": 4,
   "metadata": {},
   "outputs": [],
   "source": [
    "URL = 'https://www.flipkart.com/search?q=watches+for+men&as=on&as-show=on&otracker=AS_Query_HistoryAutoSuggest_1_6_na_na_na&otracker1=AS_Query_HistoryAutoSuggest_1_6_na_na_na&as-pos=1&as-type=HISTORY&suggestionId=watches+for+men&requestId=4b30e05e-0e5e-4886-82a7-181ead58bd93&as-backfill=on&page=2'\n",
    "headers = {\"User-Agent\":\"Mozilla/5.0 (Windows NT 10.0; Win64; x64; rv:123.0) Gecko/20100101 Firefox/123.0\"}\n",
    "\n",
    "Web_content = requests.get(URL,headers=headers).content\n",
    "web_soup = BeautifulSoup(Web_content,'html.parser')\n",
    "web_soup = BeautifulSoup(web_soup.prettify(),'html.parser')\n"
   ]
  },
  {
   "cell_type": "code",
   "execution_count": 5,
   "metadata": {},
   "outputs": [
    {
     "data": {
      "text/plain": [
       "['https://www.flipkart.com/praizy-combo-blue-mahadev-stainless-steel-watch-two-bracelets-analog-men/p/itmcbb9b8e861dd3?pid=WATGNSRRFRKBKPZ2&lid=LSTWATGNSRRFRKBKPZ27ZFOGF&marketplace=FLIPKART&q=watches+for+men&store=r18%2Ff13&srno=s_2_41&otracker=AS_Query_HistoryAutoSuggest_1_6_na_na_na&otracker1=AS_Query_HistoryAutoSuggest_1_6_na_na_na&fm=organic&iid=en_g4t6VtRx5iI2LoGtU0ce7heLXcu-9G2R94Va60kDlTMJ0o-5H88rk48vRoJIDL1JueXWOVv94cqBzZLMII9rxQ%3D%3D&ppt=None&ppn=None&ssid=d4ea7wzao00000001710231242867&qH=959e134ef548e173',\n",
       " 'https://www.flipkart.com/emporio-armani-renato-analog-watch-men/p/itmemkfzty2bxz9e?pid=WATEMKFZ9ZJJKGBG&lid=LSTWATEMKFZ9ZJJKGBGFYS3MY&marketplace=FLIPKART&q=watches+for+men&store=r18%2Ff13&srno=s_2_42&otracker=AS_Query_HistoryAutoSuggest_1_6_na_na_na&otracker1=AS_Query_HistoryAutoSuggest_1_6_na_na_na&fm=organic&iid=en_g4t6VtRx5iI2LoGtU0ce7heLXcu-9G2R94Va60kDlTPS1_7sGIcEOtkEnaiRpGaw4z4P5_0xFM79Tc0-WWdp4_UFjCTyOHoHZs-Z5_PS_w0%3D&ppt=None&ppn=None&ssid=d4ea7wzao00000001710231242867&qH=959e134ef548e173',\n",
       " 'https://www.flipkart.com/titan-eco-analog-watch-men/p/itm9713f94ea9479?pid=WATEJXFUZHMHQG6Z&lid=LSTWATEJXFUZHMHQG6ZP0B9QH&marketplace=FLIPKART&q=watches+for+men&store=r18%2Ff13&srno=s_2_43&otracker=AS_Query_HistoryAutoSuggest_1_6_na_na_na&otracker1=AS_Query_HistoryAutoSuggest_1_6_na_na_na&fm=organic&iid=2657e5aa-0a43-4b11-8f21-c9c4a6889b9e.WATEJXFUZHMHQG6Z.SEARCH&ppt=None&ppn=None&ssid=d4ea7wzao00000001710231242867&qH=959e134ef548e173',\n",
       " 'https://www.flipkart.com/timex-tw00zr254-analog-watch-men/p/itmfbqpzjphqc8zn?pid=WATFBQZZFCRVQMVZ&lid=LSTWATFBQZZFCRVQMVZEB3PBC&marketplace=FLIPKART&q=watches+for+men&store=r18%2Ff13&srno=s_2_44&otracker=AS_Query_HistoryAutoSuggest_1_6_na_na_na&otracker1=AS_Query_HistoryAutoSuggest_1_6_na_na_na&fm=organic&iid=2657e5aa-0a43-4b11-8f21-c9c4a6889b9e.WATFBQZZFCRVQMVZ.SEARCH&ppt=None&ppn=None&ssid=d4ea7wzao00000001710231242867&qH=959e134ef548e173',\n",
       " 'https://www.flipkart.com/sonata-np77085pp09w-volt-3-0-analog-watch-men/p/itm2200b6dacc929?pid=WATFXV6EY9ZNU6VH&lid=LSTWATFXV6EY9ZNU6VH39C1GU&marketplace=FLIPKART&q=watches+for+men&store=r18%2Ff13&srno=s_2_45&otracker=AS_Query_HistoryAutoSuggest_1_6_na_na_na&otracker1=AS_Query_HistoryAutoSuggest_1_6_na_na_na&fm=organic&iid=2657e5aa-0a43-4b11-8f21-c9c4a6889b9e.WATFXV6EY9ZNU6VH.SEARCH&ppt=None&ppn=None&ssid=d4ea7wzao00000001710231242867&qH=959e134ef548e173',\n",
       " 'https://www.flipkart.com/curren-analog-watch-men/p/itmffyz7cdqvcxdu?pid=WATFFYADBCUTHFBB&lid=LSTWATFFYADBCUTHFBBTQLEWW&marketplace=FLIPKART&q=watches+for+men&store=r18%2Ff13&srno=s_2_46&otracker=AS_Query_HistoryAutoSuggest_1_6_na_na_na&otracker1=AS_Query_HistoryAutoSuggest_1_6_na_na_na&fm=organic&iid=2657e5aa-0a43-4b11-8f21-c9c4a6889b9e.WATFFYADBCUTHFBB.SEARCH&ppt=None&ppn=None&ssid=d4ea7wzao00000001710231242867&qH=959e134ef548e173',\n",
       " 'https://www.flipkart.com/blue-pearl-analog-watch-men/p/itm594cd9da2d3db?pid=WATFHU7NCSZPGGF2&lid=LSTWATFHU7NCSZPGGF2FBPE82&marketplace=FLIPKART&q=watches+for+men&store=r18%2Ff13&srno=s_2_47&otracker=AS_Query_HistoryAutoSuggest_1_6_na_na_na&otracker1=AS_Query_HistoryAutoSuggest_1_6_na_na_na&fm=organic&iid=en_g4t6VtRx5iI2LoGtU0ce7heLXcu-9G2R94Va60kDlTPoCD_v9LfmQEL-ytdo8PIom6bYZpDTxEerCbpm2ko9ow%3D%3D&ppt=None&ppn=None&ssid=d4ea7wzao00000001710231242867&qH=959e134ef548e173',\n",
       " 'https://www.flipkart.com/casado-quad-series-all-black-two-tone-minimalism-premium-silicon-mesh-strap-scratch-resistant-water-1-year-quartz-machinery-warranty-boys-analog-watch-men/p/itmfdb334e791472?pid=WATG5ZFMNFKXYGNG&lid=LSTWATG5ZFMNFKXYGNGXJUGAF&marketplace=FLIPKART&q=watches+for+men&store=r18%2Ff13&srno=s_2_48&otracker=AS_Query_HistoryAutoSuggest_1_6_na_na_na&otracker1=AS_Query_HistoryAutoSuggest_1_6_na_na_na&fm=organic&iid=en_g4t6VtRx5iI2LoGtU0ce7heLXcu-9G2R94Va60kDlTPaSEXaKKieKqdpmNFxNSkvOAKjqYCXuBLVIIqoDNRFgw%3D%3D&ppt=None&ppn=None&ssid=d4ea7wzao00000001710231242867&qH=959e134ef548e173',\n",
       " 'https://www.flipkart.com/abrexo-abx8010-combo-watch-combo-analog-men/p/itmf3zhh7h2hgeug?pid=WATEX9JK7ZZJZN8C&lid=LSTWATEX9JK7ZZJZN8CSBZRAE&marketplace=FLIPKART&q=watches+for+men&store=r18%2Ff13&srno=s_2_49&otracker=AS_Query_HistoryAutoSuggest_1_6_na_na_na&otracker1=AS_Query_HistoryAutoSuggest_1_6_na_na_na&fm=organic&iid=2657e5aa-0a43-4b11-8f21-c9c4a6889b9e.WATEX9JK7ZZJZN8C.SEARCH&ppt=None&ppn=None&ssid=d4ea7wzao00000001710231242867&qH=959e134ef548e173',\n",
       " 'https://www.flipkart.com/timewear-221wdtg-analog-day-date-functioning-stainless-steel-chain-watch-men/p/itm61de826b5a7f1?pid=WATFGNPGJ2UFJJBJ&lid=LSTWATFGNPGJ2UFJJBJRMH0L2&marketplace=FLIPKART&q=watches+for+men&store=r18%2Ff13&srno=s_2_50&otracker=AS_Query_HistoryAutoSuggest_1_6_na_na_na&otracker1=AS_Query_HistoryAutoSuggest_1_6_na_na_na&fm=organic&iid=2657e5aa-0a43-4b11-8f21-c9c4a6889b9e.WATFGNPGJ2UFJJBJ.SEARCH&ppt=None&ppn=None&ssid=d4ea7wzao00000001710231242867&qH=959e134ef548e173',\n",
       " 'https://www.flipkart.com/analogue-combo-2-silicon-mesh-straps-1-year-warranty-boys-series-analog-watch-men/p/itme649c95dc31ce?pid=WATGMPYNGANENCRQ&lid=LSTWATGMPYNGANENCRQY1LZ7W&marketplace=FLIPKART&q=watches+for+men&store=r18%2Ff13&srno=s_2_51&otracker=AS_Query_HistoryAutoSuggest_1_6_na_na_na&otracker1=AS_Query_HistoryAutoSuggest_1_6_na_na_na&fm=organic&iid=en_g4t6VtRx5iI2LoGtU0ce7heLXcu-9G2R94Va60kDlTPoe_sZMmSLimMKw_io1b71ijnN9ZdQv5QoBr8zl5XzNw%3D%3D&ppt=None&ppn=None&ssid=d4ea7wzao00000001710231242867&qH=959e134ef548e173',\n",
       " 'https://www.flipkart.com/fogg-2046-bk-day-date-analog-watch-men/p/itm10859016adc2d?pid=WATF2BPKTS2H7SMV&lid=LSTWATF2BPKTS2H7SMVL8VSZO&marketplace=FLIPKART&q=watches+for+men&store=r18%2Ff13&srno=s_2_52&otracker=AS_Query_HistoryAutoSuggest_1_6_na_na_na&otracker1=AS_Query_HistoryAutoSuggest_1_6_na_na_na&fm=organic&iid=en_g4t6VtRx5iI2LoGtU0ce7heLXcu-9G2R94Va60kDlTPz0xuYl3K6Ea24JJTibmCFefr4rN9kjwG--LCUhRirCQ%3D%3D&ppt=None&ppn=None&ssid=d4ea7wzao00000001710231242867&qH=959e134ef548e173',\n",
       " 'https://www.flipkart.com/timex-analog-watch-men/p/itme819d8fae0231?pid=WATFUQEWDABGDPFF&lid=LSTWATFUQEWDABGDPFFH1ZVZ1&marketplace=FLIPKART&q=watches+for+men&store=r18%2Ff13&srno=s_2_53&otracker=AS_Query_HistoryAutoSuggest_1_6_na_na_na&otracker1=AS_Query_HistoryAutoSuggest_1_6_na_na_na&fm=organic&iid=2657e5aa-0a43-4b11-8f21-c9c4a6889b9e.WATFUQEWDABGDPFF.SEARCH&ppt=None&ppn=None&ssid=d4ea7wzao00000001710231242867&qH=959e134ef548e173',\n",
       " 'https://www.flipkart.com/fastrack-fk-exclusive-analog-watch-men/p/itm00e225ce12eea?pid=WATGH7ZE3YGH3GKK&lid=LSTWATGH7ZE3YGH3GKKQOVSX3&marketplace=FLIPKART&q=watches+for+men&store=r18%2Ff13&srno=s_2_54&otracker=AS_Query_HistoryAutoSuggest_1_6_na_na_na&otracker1=AS_Query_HistoryAutoSuggest_1_6_na_na_na&fm=organic&iid=2657e5aa-0a43-4b11-8f21-c9c4a6889b9e.WATGH7ZE3YGH3GKK.SEARCH&ppt=None&ppn=None&ssid=d4ea7wzao00000001710231242867&qH=959e134ef548e173',\n",
       " 'https://www.flipkart.com/timex-analog-watch-men/p/itm825e5faebd1cf?pid=WATFUQEWJW7CUZYX&lid=LSTWATFUQEWJW7CUZYXJRCMVC&marketplace=FLIPKART&q=watches+for+men&store=r18%2Ff13&srno=s_2_55&otracker=AS_Query_HistoryAutoSuggest_1_6_na_na_na&otracker1=AS_Query_HistoryAutoSuggest_1_6_na_na_na&fm=organic&iid=2657e5aa-0a43-4b11-8f21-c9c4a6889b9e.WATFUQEWJW7CUZYX.SEARCH&ppt=None&ppn=None&ssid=d4ea7wzao00000001710231242867&qH=959e134ef548e173',\n",
       " 'https://www.flipkart.com/hmtr-royal-blue-day-date-working-analog-watch-men/p/itmd90e0dccb56a5?pid=WATG5YMDHGKPHGGB&lid=LSTWATG5YMDHGKPHGGBNE6N3V&marketplace=FLIPKART&q=watches+for+men&store=r18%2Ff13&srno=s_2_56&otracker=AS_Query_HistoryAutoSuggest_1_6_na_na_na&otracker1=AS_Query_HistoryAutoSuggest_1_6_na_na_na&fm=organic&iid=2657e5aa-0a43-4b11-8f21-c9c4a6889b9e.WATG5YMDHGKPHGGB.SEARCH&ppt=None&ppn=None&ssid=d4ea7wzao00000001710231242867&qH=959e134ef548e173',\n",
       " 'https://www.flipkart.com/lois-caron-lcs-8188-trending-day-date-functioning-boys-analog-watch-men/p/itmc2c03ccfbe758?pid=WATFN6WFBSBYHTCX&lid=LSTWATFN6WFBSBYHTCXHUNGJW&marketplace=FLIPKART&q=watches+for+men&store=r18%2Ff13&srno=s_2_57&otracker=AS_Query_HistoryAutoSuggest_1_6_na_na_na&otracker1=AS_Query_HistoryAutoSuggest_1_6_na_na_na&fm=organic&iid=en_g4t6VtRx5iI2LoGtU0ce7heLXcu-9G2R94Va60kDlTP9-c7qbCW9QL71kTbqiwD9omQGn445YSA1FMw6kxb6rQ%3D%3D&ppt=None&ppn=None&ssid=d4ea7wzao00000001710231242867&qH=959e134ef548e173',\n",
       " 'https://www.flipkart.com/hrnt-b9050-round-black-dial-watch-stainlesssteel-chain-branded-wrist-hands-analog-men/p/itmbd56f897a2edd?pid=WATFUSFFR6MBGAWU&lid=LSTWATFUSFFR6MBGAWUO6EKEF&marketplace=FLIPKART&q=watches+for+men&store=r18%2Ff13&srno=s_2_58&otracker=AS_Query_HistoryAutoSuggest_1_6_na_na_na&otracker1=AS_Query_HistoryAutoSuggest_1_6_na_na_na&fm=organic&iid=en_g4t6VtRx5iI2LoGtU0ce7heLXcu-9G2R94Va60kDlTNirTM62dSU6ByySp83A7oSh-2Y_9StkN9f-g1yRqJ-2Q%3D%3D&ppt=None&ppn=None&ssid=d4ea7wzao00000001710231242867&qH=959e134ef548e173',\n",
       " 'https://www.flipkart.com/allen-solly-analog-watch-men/p/itm0e38fa8451147?pid=WATFWVSGW5GFFANX&lid=LSTWATFWVSGW5GFFANXWVVYVY&marketplace=FLIPKART&q=watches+for+men&store=r18%2Ff13&srno=s_2_59&otracker=AS_Query_HistoryAutoSuggest_1_6_na_na_na&otracker1=AS_Query_HistoryAutoSuggest_1_6_na_na_na&fm=organic&iid=2657e5aa-0a43-4b11-8f21-c9c4a6889b9e.WATFWVSGW5GFFANX.SEARCH&ppt=None&ppn=None&ssid=d4ea7wzao00000001710231242867&qH=959e134ef548e173',\n",
       " 'https://www.flipkart.com/casera-combo-3-watch-kids-children-black-dial-bracelet-led-watch-analog-digital-men/p/itmb8c2c343ccfb0?pid=WATGAT2WZN75DN43&lid=LSTWATGAT2WZN75DN43R4IGTH&marketplace=FLIPKART&q=watches+for+men&store=r18%2Ff13&srno=s_2_60&otracker=AS_Query_HistoryAutoSuggest_1_6_na_na_na&otracker1=AS_Query_HistoryAutoSuggest_1_6_na_na_na&fm=organic&iid=2657e5aa-0a43-4b11-8f21-c9c4a6889b9e.WATGAT2WZN75DN43.SEARCH&ppt=None&ppn=None&ssid=d4ea7wzao00000001710231242867&qH=959e134ef548e173',\n",
       " 'https://www.flipkart.com/limestone-bleed-blue-day-date-functioning-strap-adult-quartz-analog-watch-men/p/itm5082b2caa2252?pid=WATFHJCZSDYUGCHG&lid=LSTWATFHJCZSDYUGCHGPQBTJF&marketplace=FLIPKART&q=watches+for+men&store=r18%2Ff13&srno=s_2_61&otracker=AS_Query_HistoryAutoSuggest_1_6_na_na_na&otracker1=AS_Query_HistoryAutoSuggest_1_6_na_na_na&fm=organic&iid=en_g4t6VtRx5iI2LoGtU0ce7heLXcu-9G2R94Va60kDlTOLBN62ijWXxa069_wYhxyvh70gTXYaixhA7GWuxQsw6A%3D%3D&ppt=None&ppn=None&ssid=d4ea7wzao00000001710231242867&qH=959e134ef548e173',\n",
       " 'https://www.flipkart.com/limestone-mesh-strap-all-black-avatar-day-date-functioning-quartz-analog-watch-men/p/itm87eb65ac81106?pid=WATFUYQHTPFBUZZQ&lid=LSTWATFUYQHTPFBUZZQXWXTF2&marketplace=FLIPKART&q=watches+for+men&store=r18%2Ff13&srno=s_2_62&otracker=AS_Query_HistoryAutoSuggest_1_6_na_na_na&otracker1=AS_Query_HistoryAutoSuggest_1_6_na_na_na&fm=organic&iid=en_g4t6VtRx5iI2LoGtU0ce7heLXcu-9G2R94Va60kDlTNhe4JhHhqrozmH2eyIwv9Mw25SLJsN3mGJ3TWBXq1urw%3D%3D&ppt=None&ppn=None&ssid=d4ea7wzao00000001710231242867&qH=959e134ef548e173',\n",
       " 'https://www.flipkart.com/hmtr-black-day-date-working-analog-watch-men/p/itm871afffe0c762?pid=WATG5YMHYJZBRGYG&lid=LSTWATG5YMHYJZBRGYGZAUBN8&marketplace=FLIPKART&q=watches+for+men&store=r18%2Ff13&srno=s_2_63&otracker=AS_Query_HistoryAutoSuggest_1_6_na_na_na&otracker1=AS_Query_HistoryAutoSuggest_1_6_na_na_na&fm=organic&iid=2657e5aa-0a43-4b11-8f21-c9c4a6889b9e.WATG5YMHYJZBRGYG.SEARCH&ppt=None&ppn=None&ssid=d4ea7wzao00000001710231242867&qH=959e134ef548e173',\n",
       " 'https://www.flipkart.com/praizy-black-silver-dial-boys-analog-watch-men/p/itm9754d99bc8dd5?pid=WATFYEKXDAPG3AFR&lid=LSTWATFYEKXDAPG3AFRKVDJPV&marketplace=FLIPKART&q=watches+for+men&store=r18%2Ff13&srno=s_2_64&otracker=AS_Query_HistoryAutoSuggest_1_6_na_na_na&otracker1=AS_Query_HistoryAutoSuggest_1_6_na_na_na&fm=organic&iid=2657e5aa-0a43-4b11-8f21-c9c4a6889b9e.WATFYEKXDAPG3AFR.SEARCH&ppt=None&ppn=None&ssid=d4ea7wzao00000001710231242867&qH=959e134ef548e173',\n",
       " 'https://www.flipkart.com/provogue-basic-analog-watch-men-day-date-display-sports-formal-casual-series/p/itm4d855c371da89?pid=WATGHYFRRYMBQ3EE&lid=LSTWATGHYFRRYMBQ3EE9FGIJ6&marketplace=FLIPKART&q=watches+for+men&store=r18%2Ff13&srno=s_2_65&otracker=AS_Query_HistoryAutoSuggest_1_6_na_na_na&otracker1=AS_Query_HistoryAutoSuggest_1_6_na_na_na&fm=organic&iid=2657e5aa-0a43-4b11-8f21-c9c4a6889b9e.WATGHYFRRYMBQ3EE.SEARCH&ppt=None&ppn=None&ssid=d4ea7wzao00000001710231242867&qH=959e134ef548e173',\n",
       " 'https://www.flipkart.com/limestone-all-black-day-date-functioning-long-life-plated-chain-hmts-quartz-analog-watch-men/p/itmd42de5f7020cd?pid=WATGCZVF5BVHJEQE&lid=LSTWATGCZVF5BVHJEQEPUSMYG&marketplace=FLIPKART&q=watches+for+men&store=r18%2Ff13&srno=s_2_66&otracker=AS_Query_HistoryAutoSuggest_1_6_na_na_na&otracker1=AS_Query_HistoryAutoSuggest_1_6_na_na_na&fm=organic&iid=2657e5aa-0a43-4b11-8f21-c9c4a6889b9e.WATGCZVF5BVHJEQE.SEARCH&ppt=None&ppn=None&ssid=d4ea7wzao00000001710231242867&qH=959e134ef548e173',\n",
       " 'https://www.flipkart.com/matrix-dd-66-black-dial-day-date-silicone-strap-analog-watch-men/p/itm751257ec2271e?pid=WATFK84FYNHHY6BX&lid=LSTWATFK84FYNHHY6BX2H9BQE&marketplace=FLIPKART&q=watches+for+men&store=r18%2Ff13&srno=s_2_67&otracker=AS_Query_HistoryAutoSuggest_1_6_na_na_na&otracker1=AS_Query_HistoryAutoSuggest_1_6_na_na_na&fm=organic&iid=en_g4t6VtRx5iI2LoGtU0ce7heLXcu-9G2R94Va60kDlTPTlYN68TekpbA6Oc80FHq1JCZfju6FThDtYQf6jNkBOA%3D%3D&ppt=None&ppn=None&ssid=d4ea7wzao00000001710231242867&qH=959e134ef548e173',\n",
       " 'https://www.flipkart.com/tommy-hilfiger-analog-watch-men/p/itmc4264ca14a3f1?pid=WATGHHZJDSTV2Z6H&lid=LSTWATGHHZJDSTV2Z6HKLRZME&marketplace=FLIPKART&q=watches+for+men&store=r18%2Ff13&srno=s_2_68&otracker=AS_Query_HistoryAutoSuggest_1_6_na_na_na&otracker1=AS_Query_HistoryAutoSuggest_1_6_na_na_na&fm=organic&iid=en_g4t6VtRx5iI2LoGtU0ce7heLXcu-9G2R94Va60kDlTMNeOaBVPA3LKoh7hySkO993uuY0PFkC4E93N5DQUiFoxhTy0lUJ14SzoMSv_CzLF0%3D&ppt=None&ppn=None&ssid=d4ea7wzao00000001710231242867&qH=959e134ef548e173',\n",
       " 'https://www.flipkart.com/timex-analog-watch-men/p/itmf3zhjpx2rgfgh?pid=WATF22XPFJVY2K2D&lid=LSTWATF22XPFJVY2K2DOL0SH4&marketplace=FLIPKART&q=watches+for+men&store=r18%2Ff13&spotlightTagId=TrendingId_r18%2Ff13&srno=s_2_69&otracker=AS_Query_HistoryAutoSuggest_1_6_na_na_na&otracker1=AS_Query_HistoryAutoSuggest_1_6_na_na_na&fm=organic&iid=2657e5aa-0a43-4b11-8f21-c9c4a6889b9e.WATF22XPFJVY2K2D.SEARCH&ppt=None&ppn=None&ssid=d4ea7wzao00000001710231242867&qH=959e134ef548e173',\n",
       " 'https://www.flipkart.com/panars-water-resistance-6-months-warranty-wrist-men-watch-ultra-alarm-resist-feature-digital/p/itm96ad128ed0645?pid=WATG486UXTYQNNRB&lid=LSTWATG486UXTYQNNRBBD3ITE&marketplace=FLIPKART&q=watches+for+men&store=r18%2Ff13&srno=s_2_70&otracker=AS_Query_HistoryAutoSuggest_1_6_na_na_na&otracker1=AS_Query_HistoryAutoSuggest_1_6_na_na_na&fm=organic&iid=2657e5aa-0a43-4b11-8f21-c9c4a6889b9e.WATG486UXTYQNNRB.SEARCH&ppt=None&ppn=None&ssid=d4ea7wzao00000001710231242867&qH=959e134ef548e173',\n",
       " 'https://www.flipkart.com/casado-branded-bracelet-gold-plated-studded-3d-cut-glass-day-date-analog-watch-men/p/itm22e0cf8718c3e?pid=WATGZBZFXZCRUGVX&lid=LSTWATGZBZFXZCRUGVXQCAIMX&marketplace=FLIPKART&q=watches+for+men&store=r18%2Ff13&srno=s_2_71&otracker=AS_Query_HistoryAutoSuggest_1_6_na_na_na&otracker1=AS_Query_HistoryAutoSuggest_1_6_na_na_na&fm=organic&iid=en_g4t6VtRx5iI2LoGtU0ce7heLXcu-9G2R94Va60kDlTOfIL61e5YHtk8lvocW1fBaO5BaWoUVFCAXt0DuhJA6Nw%3D%3D&ppt=None&ppn=None&ssid=d4ea7wzao00000001710231242867&qH=959e134ef548e173',\n",
       " 'https://www.flipkart.com/mivaan-k-m-f-analog-watch-men/p/itma31925ad25def?pid=WATGNZ3HQVQJAWU4&lid=LSTWATGNZ3HQVQJAWU44VUEIA&marketplace=FLIPKART&q=watches+for+men&store=r18%2Ff13&srno=s_2_72&otracker=AS_Query_HistoryAutoSuggest_1_6_na_na_na&otracker1=AS_Query_HistoryAutoSuggest_1_6_na_na_na&fm=organic&iid=en_g4t6VtRx5iI2LoGtU0ce7heLXcu-9G2R94Va60kDlTNTt-33kJV21TNdEAl3q8aUPeWlpT-Y-X43lQnPFOBS9g%3D%3D&ppt=None&ppn=None&ssid=d4ea7wzao00000001710231242867&qH=959e134ef548e173',\n",
       " 'https://www.flipkart.com/fogg-2038-wh-day-date-analog-watch-men/p/itme63f08997b6fa?pid=WATEYKC4PGYQAGNS&lid=LSTWATEYKC4PGYQAGNSONSPWH&marketplace=FLIPKART&q=watches+for+men&store=r18%2Ff13&srno=s_2_73&otracker=AS_Query_HistoryAutoSuggest_1_6_na_na_na&otracker1=AS_Query_HistoryAutoSuggest_1_6_na_na_na&fm=organic&iid=2657e5aa-0a43-4b11-8f21-c9c4a6889b9e.WATEYKC4PGYQAGNS.SEARCH&ppt=None&ppn=None&ssid=d4ea7wzao00000001710231242867&qH=959e134ef548e173',\n",
       " 'https://www.flipkart.com/piraso-d-d-f95-blue-silver-chain-analog-day-date-working-display-dial-silver-watch-men/p/itm0ab734465b833?pid=WATGKYG5DHKMXG6V&lid=LSTWATGKYG5DHKMXG6VXBRDKZ&marketplace=FLIPKART&q=watches+for+men&store=r18%2Ff13&srno=s_2_74&otracker=AS_Query_HistoryAutoSuggest_1_6_na_na_na&otracker1=AS_Query_HistoryAutoSuggest_1_6_na_na_na&fm=organic&iid=2657e5aa-0a43-4b11-8f21-c9c4a6889b9e.WATGKYG5DHKMXG6V.SEARCH&ppt=None&ppn=None&ssid=d4ea7wzao00000001710231242867&qH=959e134ef548e173',\n",
       " 'https://www.flipkart.com/eddy-hager-eh-226-olive-olive-day-date-analog-watch-men/p/itmef8bff1142754?pid=WATGEJCWWXM2YSYP&lid=LSTWATGEJCWWXM2YSYPDQYJZR&marketplace=FLIPKART&q=watches+for+men&store=r18%2Ff13&srno=s_2_75&otracker=AS_Query_HistoryAutoSuggest_1_6_na_na_na&otracker1=AS_Query_HistoryAutoSuggest_1_6_na_na_na&fm=organic&iid=2657e5aa-0a43-4b11-8f21-c9c4a6889b9e.WATGEJCWWXM2YSYP.SEARCH&ppt=None&ppn=None&ssid=d4ea7wzao00000001710231242867&qH=959e134ef548e173',\n",
       " 'https://www.flipkart.com/titan-nm1712ym02-karishma-refresher-analog-watch-men/p/itm21b8bd1b03ba3?pid=WATEJXFUWZ9QUNHF&lid=LSTWATEJXFUWZ9QUNHFV93QCL&marketplace=FLIPKART&q=watches+for+men&store=r18%2Ff13&srno=s_2_76&otracker=AS_Query_HistoryAutoSuggest_1_6_na_na_na&otracker1=AS_Query_HistoryAutoSuggest_1_6_na_na_na&fm=organic&iid=2657e5aa-0a43-4b11-8f21-c9c4a6889b9e.WATEJXFUWZ9QUNHF.SEARCH&ppt=None&ppn=None&ssid=d4ea7wzao00000001710231242867&qH=959e134ef548e173',\n",
       " 'https://www.flipkart.com/emporio-armani-analog-watch-men/p/itm4ffb725764f32?pid=WATGSZYXGFP7XEJ4&lid=LSTWATGSZYXGFP7XEJ4C1EP1X&marketplace=FLIPKART&q=watches+for+men&store=r18%2Ff13&srno=s_2_77&otracker=AS_Query_HistoryAutoSuggest_1_6_na_na_na&otracker1=AS_Query_HistoryAutoSuggest_1_6_na_na_na&fm=organic&iid=en_g4t6VtRx5iI2LoGtU0ce7heLXcu-9G2R94Va60kDlTN6isYlXEyyud1bfrE42e1KvRbLSfGkSvzVaUieuW5uSWaRs4JL222ZRV-dN99QnxU%3D&ppt=None&ppn=None&ssid=d4ea7wzao00000001710231242867&qH=959e134ef548e173',\n",
       " 'https://www.flipkart.com/hamt-silicone-analog-watch-men/p/itm61b89e7f80af2?pid=WATGQBWVPH5MKFYE&lid=LSTWATGQBWVPH5MKFYEOZA0QL&marketplace=FLIPKART&q=watches+for+men&store=r18%2Ff13&srno=s_2_78&otracker=AS_Query_HistoryAutoSuggest_1_6_na_na_na&otracker1=AS_Query_HistoryAutoSuggest_1_6_na_na_na&fm=organic&iid=en_g4t6VtRx5iI2LoGtU0ce7heLXcu-9G2R94Va60kDlTNhEpm0zpg-BvazPiEq-2zkJzJE0SGi6vv9QTK8fO3vNg%3D%3D&ppt=None&ppn=None&ssid=d4ea7wzao00000001710231242867&qH=959e134ef548e173',\n",
       " 'https://www.flipkart.com/peter-england-analog-watch-men/p/itm37b3844297963?pid=WATFVFG6SWZKMZSA&lid=LSTWATFVFG6SWZKMZSAB07FER&marketplace=FLIPKART&q=watches+for+men&store=r18%2Ff13&srno=s_2_79&otracker=AS_Query_HistoryAutoSuggest_1_6_na_na_na&otracker1=AS_Query_HistoryAutoSuggest_1_6_na_na_na&fm=organic&iid=2657e5aa-0a43-4b11-8f21-c9c4a6889b9e.WATFVFG6SWZKMZSA.SEARCH&ppt=None&ppn=None&ssid=d4ea7wzao00000001710231242867&qH=959e134ef548e173',\n",
       " 'https://www.flipkart.com/fastrack-analog-watch-men/p/itm7e49326bec1e8?pid=WATFUJ94YFANSWMK&lid=LSTWATFUJ94YFANSWMKXG1AZI&marketplace=FLIPKART&q=watches+for+men&store=r18%2Ff13&srno=s_2_80&otracker=AS_Query_HistoryAutoSuggest_1_6_na_na_na&otracker1=AS_Query_HistoryAutoSuggest_1_6_na_na_na&fm=organic&iid=2657e5aa-0a43-4b11-8f21-c9c4a6889b9e.WATFUJ94YFANSWMK.SEARCH&ppt=None&ppn=None&ssid=d4ea7wzao00000001710231242867&qH=959e134ef548e173']"
      ]
     },
     "execution_count": 5,
     "metadata": {},
     "output_type": "execute_result"
    }
   ],
   "source": [
    "def get_productLinks(soup=''):\n",
    "    return ['https://www.flipkart.com'+product_link.get('href') for product_link in web_soup.find_all('a',attrs={'class':'IRpwTa'})]\n",
    "\n",
    "product_links = get_productLinks(soup=web_soup)\n",
    "product_links"
   ]
  },
  {
   "cell_type": "code",
   "execution_count": 6,
   "metadata": {},
   "outputs": [],
   "source": [
    "def get_total_number_of_comment_pages(Number_of_comment_pages):\n",
    "    try :\n",
    "        if len(Number_of_comment_pages) == 4:\n",
    "            total_comment_pages = Number_of_comment_pages[3]\n",
    "        else:\n",
    "            total_comment_pages = Number_of_comment_pages[2]\n",
    "        if total_comment_pages.find(','):\n",
    "            total_comment_pages = int(total_comment_pages.replace(',',''))\n",
    "    except:\n",
    "        return 1 \n",
    "    \n",
    "    return total_comment_pages "
   ]
  },
  {
   "cell_type": "code",
   "execution_count": 7,
   "metadata": {},
   "outputs": [],
   "source": [
    "# product_web_content = requests.get(product_links[0],headers=headers).content\n",
    "# product_web_soup = BeautifulSoup(product_web_content,'html.parser')\n",
    "# product_web_soup = BeautifulSoup(product_web_soup.prettify(),'html.parser')\n",
    "# product_comments_main_link = 'httpa://www.flipkart.com'+product_web_soup.find('div',attrs={'class':\"_3UAT2v _33R3aa\"}).parent.get('href')+'&page='"
   ]
  },
  {
   "cell_type": "code",
   "execution_count": 8,
   "metadata": {},
   "outputs": [],
   "source": [
    "\n",
    "# Get the product child elements \n",
    "def get_product_details(product_link):\n",
    "\n",
    "    try:\n",
    "        Product_URL = product_link\n",
    "        headers = {\"User-Agent\":\"Mozilla/5.0 (Windows NT 10.0; Win64; x64; rv:123.0) Gecko/20100101 Firefox/123.0\"}\n",
    "        product_web_content = requests.get(Product_URL,headers=headers).content\n",
    "        product_web_soup = BeautifulSoup(product_web_content,'html.parser')\n",
    "        product_web_soup = BeautifulSoup(product_web_soup.prettify(),'html.parser')\n",
    "        \n",
    "        brand                   = product_web_soup.find('span',attrs={'class':'G6XhRU'}).get_text().strip()\n",
    "        watch_short_description = product_web_soup.find('span',attrs={'class':'B_NuCI'}).get_text().strip()\n",
    "        watch_price             = product_web_soup.find('div',attrs={'class':'_30jeq3 _16Jk6d'}).get_text().strip()\n",
    "        watch_mrp               = product_web_soup.find('div',attrs={'class':'_3I9_wc _2p6lqe'}).get_text().strip()\n",
    "        watch_offer             = product_web_soup.find('div',attrs={'class':'_3Ay6Sb _31Dcoz pZkvcx'}).get_text().strip()\n",
    "        watch_rating            = product_web_soup.find('div',attrs={'class':'_3LWZlK _3uSWvT'}).get_text().strip()\n",
    "        watch_num_rating        = product_web_soup.find('span',attrs={'class':'_2_R_DZ'}).get_text().strip()\n",
    "        total_product_rating    = float(product_web_soup.find('div',attrs={'class':'_3LWZlK _3uSWvT'}).get_text().strip())\n",
    "        watch_detail            = product_web_soup.find('div', attrs={'class':'_2yIA0Y'}).get_text().strip()\n",
    "\n",
    "        # if product_web_soup.find('div', attrs={'class':'_3UAT2v _33R3aa'}):\n",
    "        #     product_comments_main_link = 'https://www.flipkart.com'+product_web_soup.find('div', attrs={'class':'_3UAT2v _33R3aa'}).parent.get('href')+'&page='\n",
    "\n",
    "        #     product_comment_page_contnet = requests.get(product_comments_main_link+str(1),headers=headers).content\n",
    "        #     product_comment_page_soup = BeautifulSoup(product_comment_page_contnet,'html.parser')\n",
    "        #     product_comment_page_soup = BeautifulSoup(product_comment_page_soup.prettify(),'html.parser')\n",
    "        #     individual_Product_ratings = [ int(rating.strip().replace(',','')) for rating in product_comment_page_soup.find('ul',attrs={'class':'_36LmXx'}).get_text().replace('\\n','').split(' ') if rating ]\n",
    "        # else:\n",
    "        #     individual_Product_ratings=[]\n",
    "        Product = {\n",
    "            \"brand\" : brand                  ,\n",
    "            \"watch_short_description\" : watch_short_description,\n",
    "            \"watch_price\" : watch_price            ,\n",
    "            \"watch_mrp\" : watch_mrp              ,\n",
    "            \"watch_offer\" : watch_offer            ,\n",
    "            \"watch_rating\" : watch_rating           ,\n",
    "            \"watch_num_rating\" : watch_num_rating       ,\n",
    "            \"total_product_rating\" : total_product_rating   ,\n",
    "            \"watch_detail\" : watch_detail           ,\n",
    "            # \"individual_Product_ratings\" : individual_Product_ratings           ,\n",
    "        }\n",
    "    except AttributeError as e:\n",
    "        Product={\n",
    "            \"brand\":None,\n",
    "            \"watch_short_description\":None,\n",
    "            \"watch_price\":None,\n",
    "            \"watch_mrp\":None,\n",
    "            \"watch_offer\":None,\n",
    "            \"watch_rating\":None,\n",
    "            \"watch_num_rating\":None,\n",
    "            \"total_product_rating\":None,\n",
    "            \"watch_detail\":None,\n",
    "            # \"individual_Product_ratings\" : individual_Product_ratings           ,\n",
    "        }\n",
    "    return Product"
   ]
  },
  {
   "cell_type": "code",
   "execution_count": 9,
   "metadata": {},
   "outputs": [],
   "source": [
    "# product_comment_page_contnet = requests.get(product_comments_main_link+str(1),headers=headers).content\n",
    "# product_comment_page_soup = BeautifulSoup(product_comment_page_contnet,'html.parser')\n",
    "# product_comment_page_soup = BeautifulSoup(product_comment_page_soup.prettify(),'html.parser')\n",
    "# Number_of_comment_pages = product_comment_page_soup.find('div',attrs={'class':'_2MImiq _1Qnn1K'}).find('span').get_text().strip().split(' ')\n",
    "# individual_Product_ratings = [ int(rating.strip().replace(',','')) for rating in product_comment_page_soup.find('ul',attrs={'class':'_36LmXx'}).get_text().replace('\\n','').split(' ') if rating ]\n",
    "# get_total_number_of_comment_pages(Number_of_comment_pages)"
   ]
  },
  {
   "cell_type": "code",
   "execution_count": 20,
   "metadata": {},
   "outputs": [
    {
     "data": {
      "text/plain": [
       "[\"\\n\\n\\n                5\\n                \\n\\n\\n                It's very good and fantastic watch thank you flipkart\\n               \\n\\n\\n                 READ MORE\\n                \\n\\n\\n\",\n",
       " '\\n\\n\\n                5\\n                \\n\\n\\n                Nice\\n               \\n\\n\\n                 READ MORE\\n                \\n\\n\\n',\n",
       " '\\n\\n\\n                5\\n                \\n\\n\\n                Very very nice product 👍👍👍👍👍😊👍👍👍👍👍\\n               \\n\\n\\n                 READ MORE\\n                \\n\\n\\n',\n",
       " '\\n\\n\\n                5\\n                \\n\\n\\n                Good\\n               \\n\\n\\n                 READ MORE\\n                \\n\\n\\n',\n",
       " '\\n\\n\\n                5\\n                \\n\\n\\n                Good product\\n               \\n\\n\\n                 READ MORE\\n                \\n\\n\\n',\n",
       " '\\n\\n\\n                4\\n                \\n\\n\\n                Wow\\n               \\n\\n\\n                 READ MORE\\n                \\n\\n\\n',\n",
       " '\\n\\n\\n                5\\n                \\n\\n\\n                Good  product\\n               \\n\\n\\n                 READ MORE\\n                \\n\\n\\n',\n",
       " '\\n\\n\\n                5\\n                \\n\\n\\n                Nice product I like it\\n               \\n\\n\\n                 READ MORE\\n                \\n\\n\\n',\n",
       " '\\n\\n\\n                5\\n                \\n\\n\\n                Prefect\\n               \\n\\n\\n                 READ MORE\\n                \\n\\n\\n',\n",
       " '\\n\\n\\n                5\\n                \\n\\n\\n                Nice 👌☺️ products\\n               \\n\\n\\n                 READ MORE\\n                \\n\\n\\n']"
      ]
     },
     "execution_count": 20,
     "metadata": {},
     "output_type": "execute_result"
    }
   ],
   "source": [
    "product_comment_page_contnet = requests.get('https://www.flipkart.com/hrnt-b9050-round-black-dial-watch-stainlesssteel-chain-branded-wrist-hands-analog-men/product-reviews/itmbd56f897a2edd?pid=WATFUSFFR6MBGAWU&lid=LSTWATFUSFFR6MBGAWUO6EKEF&marketplace=FLIPKART&page='+str(1),headers=headers).content\n",
    "product_comment_page_soup = BeautifulSoup(product_comment_page_contnet,'html.parser')\n",
    "product_comment_page_soup = BeautifulSoup(product_comment_page_soup.prettify(),'html.parser')\n",
    "# comments =  product_comment_page_soup.find_all('div',attrs={'class':'col _2wzgFH K0kLPL _1QgsS5'})\n",
    "# for comment in comments:\n",
    "#     comment_dataset.append(unzip_comment(comment=comment))\n",
    "comment = [x.get_text() for x in product_comment_page_soup.find_all('div', attrs={'class': \"t-ZTKy _1QgsS5\"})]\n"
   ]
  },
  {
   "cell_type": "code",
   "execution_count": 24,
   "metadata": {},
   "outputs": [
    {
     "data": {
      "text/plain": [
       "[]"
      ]
     },
     "execution_count": 24,
     "metadata": {},
     "output_type": "execute_result"
    }
   ],
   "source": [
    "from typing import List\n",
    "# unpack the single comment \n",
    "def unzip_comment(comment:List):\n",
    "    \n",
    "    try :\n",
    "        customer_rating     = comment.find('div',attrs={'class':\"_3LWZlK _1BLPMq _3B8WaH\"}).get_text()\n",
    "        customer_review     = comment.find('div',attrs={'class':\"_6K-7Co\"}).get_text()\n",
    "        customer_place      = comment.find('p',attrs={'class':\"_2mcZGG\"}).get_text()\n",
    "        customer_name_date  = comment.find('div',attrs={'class':\"row _1ExUpQ\"}).get_text()\n",
    "        comment_unpack = {\n",
    "        \"customer_rating\" : customer_rating   ,\n",
    "        \"customer_review\" : customer_review   ,\n",
    "        \"customer_place\" : customer_place    ,\n",
    "        \"customer_name_date\" : customer_name_date,\n",
    "        }\n",
    "    except :\n",
    "        comment_unpack = None\n",
    "    return comment_unpack\n",
    "\n",
    "def extract_comments(product_comments_main_link,Number_of_comment_pages):\n",
    "    comment_dataset=[]\n",
    "    try :\n",
    "        if Number_of_comment_pages>30:\n",
    "            Number_of_comment_pages = 30\n",
    "        for page_number in range(1,Number_of_comment_pages+1): \n",
    "            # print(f'Comment page {page_number}')\n",
    "            product_comment_page_contnet = requests.get(product_comments_main_link+str(page_number),headers=headers).content\n",
    "            product_comment_page_soup = BeautifulSoup(product_comment_page_contnet,'html.parser')\n",
    "            product_comment_page_soup = BeautifulSoup(product_comment_page_soup.prettify(),'html.parser')\n",
    "            # comments =  product_comment_page_soup.find_all('div',attrs={'class':'col _2wzgFH K0kLPL _1QgsS5'})\n",
    "            # for comment in comments:\n",
    "            #     comment_dataset.append(unzip_comment(comment=comment))\n",
    "            comment = [x.get_text() for x in product_comment_page_soup.find_all('div', attrs={'class': \"t-ZTKy _1QgsS5\"})]\n",
    "            # comment_dataset.append(unzip_comment(comment=comment))\n",
    "            comment_dataset.append(comment)\n",
    "            \n",
    "                # print(comment_dataset[-1])\n",
    "    except :\n",
    "        return comment_dataset\n",
    "    return comment_dataset\n",
    "\n",
    "extract_comments(['https://www.flipkart.com/hrnt-b9050-round-black-dial-watch-stainlesssteel-chain-branded-wrist-hands-analog-men/product-reviews/itmbd56f897a2edd?pid=WATFUSFFR6MBGAWU&lid=LSTWATFUSFFR6MBGAWUO6EKEF&marketplace=FLIPKART&page='], 2)"
   ]
  },
  {
   "cell_type": "code",
   "execution_count": null,
   "metadata": {},
   "outputs": [],
   "source": [
    "import pandas as pd \n",
    "# Convert the list of products to the dataframe \n",
    "data = pd.DataFrame(data=products)"
   ]
  },
  {
   "cell_type": "code",
   "execution_count": null,
   "metadata": {},
   "outputs": [
    {
     "data": {
      "text/html": [
       "<div>\n",
       "<style scoped>\n",
       "    .dataframe tbody tr th:only-of-type {\n",
       "        vertical-align: middle;\n",
       "    }\n",
       "\n",
       "    .dataframe tbody tr th {\n",
       "        vertical-align: top;\n",
       "    }\n",
       "\n",
       "    .dataframe thead th {\n",
       "        text-align: right;\n",
       "    }\n",
       "</style>\n",
       "<table border=\"1\" class=\"dataframe\">\n",
       "  <thead>\n",
       "    <tr style=\"text-align: right;\">\n",
       "      <th></th>\n",
       "      <th>brand</th>\n",
       "      <th>watch_short_description</th>\n",
       "      <th>watch_price</th>\n",
       "      <th>watch_mrp</th>\n",
       "      <th>watch_offer</th>\n",
       "      <th>watch_rating</th>\n",
       "      <th>watch_num_rating</th>\n",
       "      <th>total_product_rating</th>\n",
       "      <th>watch_detail</th>\n",
       "    </tr>\n",
       "  </thead>\n",
       "  <tbody>\n",
       "    <tr>\n",
       "      <th>0</th>\n",
       "      <td>hala</td>\n",
       "      <td>Kids Watch, Boys Watch Digital Watch  - For Me...</td>\n",
       "      <td>₹219</td>\n",
       "      <td>₹\\n             \\n             1,499</td>\n",
       "      <td>85% off</td>\n",
       "      <td>4</td>\n",
       "      <td>38,162 ratings and 2,234 reviews</td>\n",
       "      <td>4.0</td>\n",
       "      <td>Product Details\\n            \\n\\n\\n\\n\\n\\n\\n\\n\\...</td>\n",
       "    </tr>\n",
       "    <tr>\n",
       "      <th>1</th>\n",
       "      <td>LOIS CARON</td>\n",
       "      <td>Trending Day &amp; Date Functioning for Boys Analo...</td>\n",
       "      <td>₹329</td>\n",
       "      <td>₹\\n             \\n             1,799</td>\n",
       "      <td>81% off</td>\n",
       "      <td>4.2</td>\n",
       "      <td>1,80,002 ratings and 12,233 reviews</td>\n",
       "      <td>4.2</td>\n",
       "      <td>Product Details\\n            \\n\\n\\n\\n\\n\\n\\n\\n\\...</td>\n",
       "    </tr>\n",
       "    <tr>\n",
       "      <th>2</th>\n",
       "      <td>Blue Pearl</td>\n",
       "      <td>Analog Watch  - For Men Combo Pack Of 2 New Ar...</td>\n",
       "      <td>₹219</td>\n",
       "      <td>₹\\n             \\n             1,499</td>\n",
       "      <td>85% off</td>\n",
       "      <td>3.8</td>\n",
       "      <td>18,895 ratings and 1,013 reviews</td>\n",
       "      <td>3.8</td>\n",
       "      <td>Product Details\\n            \\n\\n\\n\\n\\n\\n\\n\\n\\...</td>\n",
       "    </tr>\n",
       "    <tr>\n",
       "      <th>3</th>\n",
       "      <td>SONATA</td>\n",
       "      <td>Volt Analog Watch  - For Men 77085PP03</td>\n",
       "      <td>₹435</td>\n",
       "      <td>₹\\n             \\n             725</td>\n",
       "      <td>40% off</td>\n",
       "      <td>4.3</td>\n",
       "      <td>1,21,321 ratings and 13,926 reviews</td>\n",
       "      <td>4.3</td>\n",
       "      <td>Product Details\\n            \\n\\n\\n\\n\\n\\n\\n\\n\\...</td>\n",
       "    </tr>\n",
       "    <tr>\n",
       "      <th>4</th>\n",
       "      <td>Fastrack</td>\n",
       "      <td>Analog Watch  - For Men 3240SL02</td>\n",
       "      <td>₹1,047</td>\n",
       "      <td>₹\\n             \\n             2,095</td>\n",
       "      <td>50% off</td>\n",
       "      <td>4.3</td>\n",
       "      <td>33,537 ratings and 2,832 reviews</td>\n",
       "      <td>4.3</td>\n",
       "      <td>Product Details\\n            \\n\\n\\n\\n\\n\\n\\n\\n\\...</td>\n",
       "    </tr>\n",
       "  </tbody>\n",
       "</table>\n",
       "</div>"
      ],
      "text/plain": [
       "        brand                            watch_short_description watch_price  \\\n",
       "0        hala  Kids Watch, Boys Watch Digital Watch  - For Me...        ₹219   \n",
       "1  LOIS CARON  Trending Day & Date Functioning for Boys Analo...        ₹329   \n",
       "2  Blue Pearl  Analog Watch  - For Men Combo Pack Of 2 New Ar...        ₹219   \n",
       "3      SONATA             Volt Analog Watch  - For Men 77085PP03        ₹435   \n",
       "4    Fastrack                   Analog Watch  - For Men 3240SL02      ₹1,047   \n",
       "\n",
       "                              watch_mrp watch_offer watch_rating  \\\n",
       "0  ₹\\n             \\n             1,499     85% off            4   \n",
       "1  ₹\\n             \\n             1,799     81% off          4.2   \n",
       "2  ₹\\n             \\n             1,499     85% off          3.8   \n",
       "3    ₹\\n             \\n             725     40% off          4.3   \n",
       "4  ₹\\n             \\n             2,095     50% off          4.3   \n",
       "\n",
       "                      watch_num_rating  total_product_rating  \\\n",
       "0     38,162 ratings and 2,234 reviews                   4.0   \n",
       "1  1,80,002 ratings and 12,233 reviews                   4.2   \n",
       "2     18,895 ratings and 1,013 reviews                   3.8   \n",
       "3  1,21,321 ratings and 13,926 reviews                   4.3   \n",
       "4     33,537 ratings and 2,832 reviews                   4.3   \n",
       "\n",
       "                                        watch_detail  \n",
       "0  Product Details\\n            \\n\\n\\n\\n\\n\\n\\n\\n\\...  \n",
       "1  Product Details\\n            \\n\\n\\n\\n\\n\\n\\n\\n\\...  \n",
       "2  Product Details\\n            \\n\\n\\n\\n\\n\\n\\n\\n\\...  \n",
       "3  Product Details\\n            \\n\\n\\n\\n\\n\\n\\n\\n\\...  \n",
       "4  Product Details\\n            \\n\\n\\n\\n\\n\\n\\n\\n\\...  "
      ]
     },
     "execution_count": 50,
     "metadata": {},
     "output_type": "execute_result"
    }
   ],
   "source": [
    "data.head() # check the sample of the data frame "
   ]
  },
  {
   "cell_type": "code",
   "execution_count": null,
   "metadata": {},
   "outputs": [
    {
     "data": {
      "text/plain": [
       "brand                      218\n",
       "watch_short_description    218\n",
       "watch_price                218\n",
       "watch_mrp                  218\n",
       "watch_offer                218\n",
       "watch_rating               218\n",
       "watch_num_rating           218\n",
       "total_product_rating       218\n",
       "watch_detail               218\n",
       "dtype: int64"
      ]
     },
     "execution_count": 51,
     "metadata": {},
     "output_type": "execute_result"
    }
   ],
   "source": [
    "# check the null columns row in the data frame \n",
    "data.isnull().sum() # so there are constant number of row have null values drop all of the rows \n"
   ]
  },
  {
   "cell_type": "code",
   "execution_count": null,
   "metadata": {},
   "outputs": [
    {
     "name": "stdout",
     "output_type": "stream",
     "text": [
      "shape of dataframe (742, 9)\n"
     ]
    },
    {
     "data": {
      "text/plain": [
       "(brand                      0\n",
       " watch_short_description    0\n",
       " watch_price                0\n",
       " watch_mrp                  0\n",
       " watch_offer                0\n",
       " watch_rating               0\n",
       " watch_num_rating           0\n",
       " total_product_rating       0\n",
       " watch_detail               0\n",
       " dtype: int64,\n",
       " None)"
      ]
     },
     "execution_count": 52,
     "metadata": {},
     "output_type": "execute_result"
    }
   ],
   "source": [
    "data.dropna(subset=data.columns, inplace=True)\n",
    "data.isnull().sum(), print(f'shape of dataframe {data.shape}') # all the null value rows are droped "
   ]
  },
  {
   "cell_type": "markdown",
   "metadata": {},
   "source": [
    "#### Clean the Data set rows "
   ]
  },
  {
   "cell_type": "code",
   "execution_count": null,
   "metadata": {},
   "outputs": [
    {
     "data": {
      "text/plain": [
       "0      219.0\n",
       "1      329.0\n",
       "2      219.0\n",
       "3      435.0\n",
       "4     1047.0\n",
       "5     1135.0\n",
       "7      258.0\n",
       "8      435.0\n",
       "9      398.0\n",
       "10     227.0\n",
       "Name: watch_price, dtype: float64"
      ]
     },
     "execution_count": 53,
     "metadata": {},
     "output_type": "execute_result"
    }
   ],
   "source": [
    "########### Watch price Clean ###############\n",
    "# 1.replace the rupeey symbol in the string and \n",
    "# 2.remove the comma \n",
    "# 3.convert it to float \n",
    "data.watch_price = data.watch_price.apply( lambda x : float([x := x.replace(a, b) for a, b in [(\"₹\", \"\"), (\",\", \"\")]][1]))\n",
    "data.watch_price[:10] # cleaned price data "
   ]
  },
  {
   "cell_type": "code",
   "execution_count": null,
   "metadata": {},
   "outputs": [
    {
     "data": {
      "text/plain": [
       "0     1499.0\n",
       "1     1799.0\n",
       "2     1499.0\n",
       "3      725.0\n",
       "4     2095.0\n",
       "5     2795.0\n",
       "7     1499.0\n",
       "8      725.0\n",
       "9     2999.0\n",
       "10    1599.0\n",
       "Name: watch_mrp, dtype: float64"
      ]
     },
     "execution_count": 63,
     "metadata": {},
     "output_type": "execute_result"
    }
   ],
   "source": [
    "# clean the mrp data \n",
    "# '₹\\n             \\n             1,499'\n",
    "# 1.replace the rupeey symbol \n",
    "# 2. strip the newlines \n",
    "# 3. remove the comma \n",
    "# 4. convert string to float\n",
    "data.watch_mrp = data.watch_mrp.apply(lambda x : float([x := x.replace(a, b) for a, b in [(\"₹\", \"\"), (\",\", \"\")]][1].strip()))\n",
    "data.watch_mrp[:10]"
   ]
  },
  {
   "cell_type": "code",
   "execution_count": null,
   "metadata": {},
   "outputs": [
    {
     "data": {
      "text/plain": [
       "948    0.20\n",
       "949    0.30\n",
       "950    0.86\n",
       "951    0.85\n",
       "952    0.45\n",
       "953    0.20\n",
       "956    0.82\n",
       "957    0.80\n",
       "958    0.20\n",
       "959    0.83\n",
       "Name: watch_offer, dtype: float64"
      ]
     },
     "execution_count": 69,
     "metadata": {},
     "output_type": "execute_result"
    }
   ],
   "source": [
    "# clean the watch offer data \n",
    "# 1.Replace % off with ''\n",
    "# 2.convert the to absolute number/100\n",
    "\n",
    "data.watch_offer = data.watch_offer.apply( lambda x : float(x.replace('% off',''))/100)\n",
    "data.watch_offer[-10:] # last 10 data"
   ]
  },
  {
   "cell_type": "code",
   "execution_count": null,
   "metadata": {},
   "outputs": [
    {
     "data": {
      "text/plain": [
       "0         38,162 ratings and 2,234 reviews\n",
       "1      1,80,002 ratings and 12,233 reviews\n",
       "2         18,895 ratings and 1,013 reviews\n",
       "3      1,21,321 ratings and 13,926 reviews\n",
       "4         33,537 ratings and 2,832 reviews\n",
       "                      ...                 \n",
       "953               22 ratings and 1 reviews\n",
       "956    1,63,592 ratings and 11,095 reviews\n",
       "957       21,823 ratings and 1,294 reviews\n",
       "958          1,993 ratings and 203 reviews\n",
       "959          5,049 ratings and 464 reviews\n",
       "Name: watch_num_rating, Length: 742, dtype: object"
      ]
     },
     "execution_count": 85,
     "metadata": {},
     "output_type": "execute_result"
    }
   ],
   "source": [
    "data.watch_num_rating"
   ]
  },
  {
   "cell_type": "code",
   "execution_count": null,
   "metadata": {},
   "outputs": [
    {
     "data": {
      "text/html": [
       "<div>\n",
       "<style scoped>\n",
       "    .dataframe tbody tr th:only-of-type {\n",
       "        vertical-align: middle;\n",
       "    }\n",
       "\n",
       "    .dataframe tbody tr th {\n",
       "        vertical-align: top;\n",
       "    }\n",
       "\n",
       "    .dataframe thead th {\n",
       "        text-align: right;\n",
       "    }\n",
       "</style>\n",
       "<table border=\"1\" class=\"dataframe\">\n",
       "  <thead>\n",
       "    <tr style=\"text-align: right;\">\n",
       "      <th></th>\n",
       "      <th>brand</th>\n",
       "      <th>watch_short_description</th>\n",
       "      <th>watch_price</th>\n",
       "      <th>watch_mrp</th>\n",
       "      <th>watch_offer</th>\n",
       "      <th>watch_rating</th>\n",
       "      <th>watch_num_rating</th>\n",
       "      <th>total_product_rating</th>\n",
       "      <th>watch_detail</th>\n",
       "      <th>Number_of_ratings</th>\n",
       "      <th>Number_of_reviews</th>\n",
       "    </tr>\n",
       "  </thead>\n",
       "  <tbody>\n",
       "    <tr>\n",
       "      <th>0</th>\n",
       "      <td>hala</td>\n",
       "      <td>Kids Watch, Boys Watch Digital Watch  - For Me...</td>\n",
       "      <td>219.0</td>\n",
       "      <td>1499.0</td>\n",
       "      <td>0.85</td>\n",
       "      <td>4</td>\n",
       "      <td>38,162 ratings and 2,234 reviews</td>\n",
       "      <td>4.0</td>\n",
       "      <td>Product Details\\n            \\n\\n\\n\\n\\n\\n\\n\\n\\...</td>\n",
       "      <td>38162</td>\n",
       "      <td>2234</td>\n",
       "    </tr>\n",
       "    <tr>\n",
       "      <th>1</th>\n",
       "      <td>LOIS CARON</td>\n",
       "      <td>Trending Day &amp; Date Functioning for Boys Analo...</td>\n",
       "      <td>329.0</td>\n",
       "      <td>1799.0</td>\n",
       "      <td>0.81</td>\n",
       "      <td>4.2</td>\n",
       "      <td>1,80,002 ratings and 12,233 reviews</td>\n",
       "      <td>4.2</td>\n",
       "      <td>Product Details\\n            \\n\\n\\n\\n\\n\\n\\n\\n\\...</td>\n",
       "      <td>180002</td>\n",
       "      <td>12233</td>\n",
       "    </tr>\n",
       "    <tr>\n",
       "      <th>2</th>\n",
       "      <td>Blue Pearl</td>\n",
       "      <td>Analog Watch  - For Men Combo Pack Of 2 New Ar...</td>\n",
       "      <td>219.0</td>\n",
       "      <td>1499.0</td>\n",
       "      <td>0.85</td>\n",
       "      <td>3.8</td>\n",
       "      <td>18,895 ratings and 1,013 reviews</td>\n",
       "      <td>3.8</td>\n",
       "      <td>Product Details\\n            \\n\\n\\n\\n\\n\\n\\n\\n\\...</td>\n",
       "      <td>18895</td>\n",
       "      <td>1013</td>\n",
       "    </tr>\n",
       "    <tr>\n",
       "      <th>3</th>\n",
       "      <td>SONATA</td>\n",
       "      <td>Volt Analog Watch  - For Men 77085PP03</td>\n",
       "      <td>435.0</td>\n",
       "      <td>725.0</td>\n",
       "      <td>0.40</td>\n",
       "      <td>4.3</td>\n",
       "      <td>1,21,321 ratings and 13,926 reviews</td>\n",
       "      <td>4.3</td>\n",
       "      <td>Product Details\\n            \\n\\n\\n\\n\\n\\n\\n\\n\\...</td>\n",
       "      <td>121321</td>\n",
       "      <td>13926</td>\n",
       "    </tr>\n",
       "    <tr>\n",
       "      <th>4</th>\n",
       "      <td>Fastrack</td>\n",
       "      <td>Analog Watch  - For Men 3240SL02</td>\n",
       "      <td>1047.0</td>\n",
       "      <td>2095.0</td>\n",
       "      <td>0.50</td>\n",
       "      <td>4.3</td>\n",
       "      <td>33,537 ratings and 2,832 reviews</td>\n",
       "      <td>4.3</td>\n",
       "      <td>Product Details\\n            \\n\\n\\n\\n\\n\\n\\n\\n\\...</td>\n",
       "      <td>33537</td>\n",
       "      <td>2832</td>\n",
       "    </tr>\n",
       "  </tbody>\n",
       "</table>\n",
       "</div>"
      ],
      "text/plain": [
       "        brand                            watch_short_description  watch_price  \\\n",
       "0        hala  Kids Watch, Boys Watch Digital Watch  - For Me...        219.0   \n",
       "1  LOIS CARON  Trending Day & Date Functioning for Boys Analo...        329.0   \n",
       "2  Blue Pearl  Analog Watch  - For Men Combo Pack Of 2 New Ar...        219.0   \n",
       "3      SONATA             Volt Analog Watch  - For Men 77085PP03        435.0   \n",
       "4    Fastrack                   Analog Watch  - For Men 3240SL02       1047.0   \n",
       "\n",
       "   watch_mrp  watch_offer watch_rating                     watch_num_rating  \\\n",
       "0     1499.0         0.85            4     38,162 ratings and 2,234 reviews   \n",
       "1     1799.0         0.81          4.2  1,80,002 ratings and 12,233 reviews   \n",
       "2     1499.0         0.85          3.8     18,895 ratings and 1,013 reviews   \n",
       "3      725.0         0.40          4.3  1,21,321 ratings and 13,926 reviews   \n",
       "4     2095.0         0.50          4.3     33,537 ratings and 2,832 reviews   \n",
       "\n",
       "   total_product_rating                                       watch_detail  \\\n",
       "0                   4.0  Product Details\\n            \\n\\n\\n\\n\\n\\n\\n\\n\\...   \n",
       "1                   4.2  Product Details\\n            \\n\\n\\n\\n\\n\\n\\n\\n\\...   \n",
       "2                   3.8  Product Details\\n            \\n\\n\\n\\n\\n\\n\\n\\n\\...   \n",
       "3                   4.3  Product Details\\n            \\n\\n\\n\\n\\n\\n\\n\\n\\...   \n",
       "4                   4.3  Product Details\\n            \\n\\n\\n\\n\\n\\n\\n\\n\\...   \n",
       "\n",
       "   Number_of_ratings  Number_of_reviews  \n",
       "0              38162               2234  \n",
       "1             180002              12233  \n",
       "2              18895               1013  \n",
       "3             121321              13926  \n",
       "4              33537               2832  "
      ]
     },
     "execution_count": 104,
     "metadata": {},
     "output_type": "execute_result"
    }
   ],
   "source": [
    "# cleaning watch_num_ratings \n",
    "# we have total number of ratings and reviews combined data\n",
    "# we can seperate number of reviews\n",
    "# and ratings\n",
    "# 38,162 ratings and 2,234 reviews\n",
    "x = data.watch_num_rating[0]\t\n",
    "[x := x.replace(a, b) for a, b in [ ('ratings and',\"\"),(\",\", \"\"),(\"reviews\",\"\")]][-1]\n",
    "# data.watch_num_rating.apply( lambda x : [x := x.replace(a, b) for a, b in [(\"ratings and\", \" \"),(\"reviews\",\"\") (\",\", \"\")]])\n",
    "Number_of_ratings = []\n",
    "Number_of_reviews = []\n",
    "for x in data.watch_num_rating:\n",
    "    ratings  = [x := x.replace(a, b) for a, b in [ ('ratings and',\"\"),(\",\", \"\"),(\"reviews\",\"\")]][-1]\n",
    "    ratings = [x for x in ratings.split() if x  ]\n",
    "    Number_of_ratings.append(int(ratings[0]))\n",
    "    Number_of_reviews.append(int(ratings[1]))\n",
    "\n",
    "data['Number_of_ratings'] = Number_of_ratings\n",
    "data['Number_of_reviews'] = Number_of_reviews\n",
    "data.head()"
   ]
  },
  {
   "cell_type": "code",
   "execution_count": null,
   "metadata": {},
   "outputs": [
    {
     "data": {
      "text/plain": [
       "Unnamed: 0                 0\n",
       "brand                      0\n",
       "watch_short_description    0\n",
       "watch_price                0\n",
       "watch_mrp                  0\n",
       "watch_offer                0\n",
       "watch_rating               0\n",
       "watch_num_rating           0\n",
       "total_product_rating       0\n",
       "watch_detail               0\n",
       "Number_of_ratings          0\n",
       "Number_of_reviews          0\n",
       "dtype: int64"
      ]
     },
     "execution_count": 114,
     "metadata": {},
     "output_type": "execute_result"
    }
   ],
   "source": [
    "datra = pd.read_csv('flipkart_watches_data.csv')\n",
    "data.isnull().sum()"
   ]
  }
 ],
 "metadata": {
  "kernelspec": {
   "display_name": "env",
   "language": "python",
   "name": "python3"
  },
  "language_info": {
   "codemirror_mode": {
    "name": "ipython",
    "version": 3
   },
   "file_extension": ".py",
   "mimetype": "text/x-python",
   "name": "python",
   "nbconvert_exporter": "python",
   "pygments_lexer": "ipython3",
   "version": "3.11.5"
  }
 },
 "nbformat": 4,
 "nbformat_minor": 2
}
