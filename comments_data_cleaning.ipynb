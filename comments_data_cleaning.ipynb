{
 "cells": [
  {
   "cell_type": "code",
   "execution_count": 149,
   "metadata": {},
   "outputs": [],
   "source": [
    "import json \n",
    "data = []\n",
    "# with open(f'watches_flipkart_comments.json','r') as file :\n",
    "#     unpack_data = json.load(file)\n",
    "#     for i in unpack_data:\n",
    "#         if i:\n",
    "#             for comment in i :\n",
    "#                 if comment:\n",
    "#                     data.append(comment)\n",
    "                    \n",
    "for index in range(0,17):\n",
    "    if index != 12 :\n",
    "        with open(f'watches_flipkart_comments{index}.json','r') as file :\n",
    "            unpack_data = json.load(file)\n",
    "            for i in unpack_data:\n",
    "                if i:\n",
    "                    for comment in i :\n",
    "                        if comment:\n",
    "                            data.append(comment)\n"
   ]
  },
  {
   "cell_type": "code",
   "execution_count": 150,
   "metadata": {},
   "outputs": [
    {
     "data": {
      "text/plain": [
       "(144562, 4)"
      ]
     },
     "execution_count": 150,
     "metadata": {},
     "output_type": "execute_result"
    }
   ],
   "source": [
    "\n",
    "import pandas as pd \n",
    "columns=['customer_rating','customer_review','customer_place','customer_name_date']\n",
    "data = pd.DataFrame(\n",
    "    data=data, columns=['customer_rating','customer_review','customer_place','customer_name_date']\n",
    ")\n",
    "\n",
    "data.shape"
   ]
  },
  {
   "cell_type": "code",
   "execution_count": 151,
   "metadata": {},
   "outputs": [
    {
     "data": {
      "text/plain": [
       "[(5.0, 69.2886097314647), (4.0, 23.189358199250147), (3.0, 7.52203206928515)]"
      ]
     },
     "execution_count": 151,
     "metadata": {},
     "output_type": "execute_result"
    }
   ],
   "source": [
    "# clean customer ratings \n",
    "[ (rating, x/data.shape[0] *100) for rating, x in data.customer_rating.apply(lambda x : float(x.strip())).value_counts().to_dict().items()]"
   ]
  },
  {
   "cell_type": "code",
   "execution_count": 152,
   "metadata": {},
   "outputs": [],
   "source": [
    "data.to_csv('watch_reviews.csv', index=False, index_label=False)"
   ]
  },
  {
   "cell_type": "code",
   "execution_count": 153,
   "metadata": {},
   "outputs": [
    {
     "data": {
      "text/plain": [
       "Index(['customer_rating', 'customer_review', 'customer_place',\n",
       "       'customer_name_date'],\n",
       "      dtype='object')"
      ]
     },
     "execution_count": 153,
     "metadata": {},
     "output_type": "execute_result"
    }
   ],
   "source": [
    "data = pd.read_csv('watch_reviews.csv')\n",
    "data.columns"
   ]
  },
  {
   "cell_type": "code",
   "execution_count": 154,
   "metadata": {},
   "outputs": [],
   "source": [
    "# Cleaning customer ratings \n",
    "data.customer_rating = data.customer_rating.apply(lambda x : float(x))"
   ]
  },
  {
   "cell_type": "code",
   "execution_count": 155,
   "metadata": {},
   "outputs": [],
   "source": [
    "data.customer_place = data.customer_place.apply( lambda x : place[1].strip() if len(place := x.split(',')) ==2  else None)"
   ]
  },
  {
   "cell_type": "code",
   "execution_count": 156,
   "metadata": {},
   "outputs": [],
   "source": [
    "data['customer_name'] = data.customer_name_date.apply(lambda x : [x.strip()  for x in x.replace('\\n','').split('  ') if x][0])\n",
    "data['customer_order_date']=data.customer_name_date.apply(lambda x : [x.strip()  for x in x.replace('\\n','').split('    ') if x][1])"
   ]
  },
  {
   "cell_type": "code",
   "execution_count": 157,
   "metadata": {},
   "outputs": [],
   "source": [
    "data.drop(columns=['customer_name_date'], inplace=True)"
   ]
  },
  {
   "cell_type": "code",
   "execution_count": 158,
   "metadata": {},
   "outputs": [],
   "source": [
    "import neattext as nt \n",
    "data.customer_review = data.customer_review.apply( lambda x : nt.remove_multiple_spaces(x))"
   ]
  },
  {
   "cell_type": "code",
   "execution_count": 159,
   "metadata": {},
   "outputs": [],
   "source": [
    "data.to_csv('watch_reviews.csv', index=False, index_label=False)"
   ]
  },
  {
   "cell_type": "code",
   "execution_count": 160,
   "metadata": {},
   "outputs": [
    {
     "data": {
      "text/html": [
       "<div>\n",
       "<style scoped>\n",
       "    .dataframe tbody tr th:only-of-type {\n",
       "        vertical-align: middle;\n",
       "    }\n",
       "\n",
       "    .dataframe tbody tr th {\n",
       "        vertical-align: top;\n",
       "    }\n",
       "\n",
       "    .dataframe thead th {\n",
       "        text-align: right;\n",
       "    }\n",
       "</style>\n",
       "<table border=\"1\" class=\"dataframe\">\n",
       "  <thead>\n",
       "    <tr style=\"text-align: right;\">\n",
       "      <th></th>\n",
       "      <th>customer_rating</th>\n",
       "      <th>customer_review</th>\n",
       "      <th>customer_place</th>\n",
       "      <th>customer_name</th>\n",
       "      <th>customer_order_date</th>\n",
       "    </tr>\n",
       "  </thead>\n",
       "  <tbody>\n",
       "    <tr>\n",
       "      <th>0</th>\n",
       "      <td>5.0</td>\n",
       "      <td>Good one ✌️💖</td>\n",
       "      <td>Fazi Nagar</td>\n",
       "      <td>Abrar alam Alam</td>\n",
       "      <td>Sep, 2022</td>\n",
       "    </tr>\n",
       "    <tr>\n",
       "      <th>1</th>\n",
       "      <td>4.0</td>\n",
       "      <td>This is an amazing watch.but the quality of b...</td>\n",
       "      <td>Patna</td>\n",
       "      <td>Flipkart Customer</td>\n",
       "      <td>Sep, 2022</td>\n",
       "    </tr>\n",
       "    <tr>\n",
       "      <th>2</th>\n",
       "      <td>5.0</td>\n",
       "      <td>Awesome 👍👍👍👍👍</td>\n",
       "      <td>Deoria</td>\n",
       "      <td>Imamudin Ansari</td>\n",
       "      <td>Jul, 2022</td>\n",
       "    </tr>\n",
       "    <tr>\n",
       "      <th>3</th>\n",
       "      <td>5.0</td>\n",
       "      <td>Good condition</td>\n",
       "      <td>Jangipur</td>\n",
       "      <td>Ali kurban</td>\n",
       "      <td>Apr, 2022</td>\n",
       "    </tr>\n",
       "    <tr>\n",
       "      <th>4</th>\n",
       "      <td>4.0</td>\n",
       "      <td>Osm nice 👌 product 👌</td>\n",
       "      <td>Ahmedabad</td>\n",
       "      <td>Flipkart Customer</td>\n",
       "      <td>Jan, 2023</td>\n",
       "    </tr>\n",
       "  </tbody>\n",
       "</table>\n",
       "</div>"
      ],
      "text/plain": [
       "   customer_rating                                    customer_review  \\\n",
       "0              5.0                                      Good one ✌️💖    \n",
       "1              4.0   This is an amazing watch.but the quality of b...   \n",
       "2              5.0                                     Awesome 👍👍👍👍👍    \n",
       "3              5.0                                    Good condition    \n",
       "4              4.0                              Osm nice 👌 product 👌    \n",
       "\n",
       "  customer_place      customer_name customer_order_date  \n",
       "0     Fazi Nagar    Abrar alam Alam           Sep, 2022  \n",
       "1          Patna  Flipkart Customer           Sep, 2022  \n",
       "2         Deoria    Imamudin Ansari           Jul, 2022  \n",
       "3       Jangipur         Ali kurban           Apr, 2022  \n",
       "4      Ahmedabad  Flipkart Customer           Jan, 2023  "
      ]
     },
     "execution_count": 160,
     "metadata": {},
     "output_type": "execute_result"
    }
   ],
   "source": [
    "data.head()"
   ]
  },
  {
   "cell_type": "code",
   "execution_count": 161,
   "metadata": {},
   "outputs": [
    {
     "data": {
      "text/plain": [
       "0           [✌️💖]\n",
       "1              []\n",
       "2         [👍👍👍👍👍]\n",
       "3              []\n",
       "4          [👌, 👌]\n",
       "           ...   \n",
       "144557         []\n",
       "144558         []\n",
       "144559         []\n",
       "144560         []\n",
       "144561       [👍👍]\n",
       "Name: customer_review, Length: 144562, dtype: object"
      ]
     },
     "execution_count": 161,
     "metadata": {},
     "output_type": "execute_result"
    }
   ],
   "source": [
    "data.customer_review.apply(  lambda x : nt.extract_emojis(x))"
   ]
  },
  {
   "cell_type": "code",
   "execution_count": 162,
   "metadata": {},
   "outputs": [
    {
     "data": {
      "text/plain": [
       "['\\n\\n\\n                5\\n                \\n\\n\\n                Super\\n               \\n\\n\\n                 READ MORE\\n                \\n\\n\\n',\n",
       " '\\n\\n\\n                3\\n                \\n\\n\\n                Nice\\n               \\n\\n\\n                 READ MORE\\n                \\n\\n\\n',\n",
       " '\\n\\n\\n                5\\n                \\n\\n\\n                Very nice\\n               \\n\\n\\n                 READ MORE\\n                \\n\\n\\n',\n",
       " '\\n\\n\\n                5\\n                \\n\\n\\n                The product is actually very nice.......🎊\\n               \\n\\n\\n                 READ MORE\\n                \\n\\n\\n',\n",
       " '\\n\\n\\n                5\\n                \\n\\n\\n                Very nice\\n               \\n\\n\\n                 READ MORE\\n                \\n\\n\\n',\n",
       " '\\n\\n\\n                5\\n                \\n\\n\\n                Good product\\n               \\n\\n\\n                 READ MORE\\n                \\n\\n\\n',\n",
       " '\\n\\n\\n                5\\n                \\n\\n\\n                Very stylish nice product\\n               \\n\\n\\n                 READ MORE\\n                \\n\\n\\n',\n",
       " '\\n\\n\\n                5\\n                \\n\\n\\n                osm look\\n               \\n\\n\\n                 READ MORE\\n                \\n\\n\\n',\n",
       " '\\n\\n\\n                4\\n                \\n\\n\\n                Nice\\n               \\n\\n\\n                 READ MORE\\n                \\n\\n\\n',\n",
       " '\\n\\n\\n                5\\n                \\n\\n\\n                Verry good 👍product\\n               \\n\\n\\n                 READ MORE\\n                \\n\\n\\n']"
      ]
     },
     "execution_count": 162,
     "metadata": {},
     "output_type": "execute_result"
    }
   ],
   "source": [
    "from bs4 import BeautifulSoup\n",
    "import requests\n",
    "\n",
    "URL = 'https://www.flipkart.com/hrnt-b9050-round-black-dial-watch-stainlesssteel-chain-branded-wrist-hands-analog-men/product-reviews/itmbd56f897a2edd?pid=WATFUSFFR6MBGAWU&lid=LSTWATFUSFFR6MBGAWUO6EKEF&marketplace=FLIPKART&page=2'\n",
    "headers = {\"User-Agent\":\"Mozilla/5.0 (Windows NT 10.0; Win64; x64; rv:123.0) Gecko/20100101 Firefox/123.0\"}\n",
    "Web_content = requests.get(URL,headers=headers).content\n",
    "web_soup = BeautifulSoup(Web_content,'html.parser')\n",
    "web_soup = BeautifulSoup(web_soup.prettify(),'html.parser')\n",
    "[x.get_text() for x in web_soup.find_all('div', attrs={'class': \"t-ZTKy _1QgsS5\"})]"
   ]
  },
  {
   "cell_type": "markdown",
   "metadata": {},
   "source": [
    "### Clean Watch comments Data alone "
   ]
  },
  {
   "cell_type": "code",
   "execution_count": 181,
   "metadata": {},
   "outputs": [
    {
     "data": {
      "text/html": [
       "<div>\n",
       "<style scoped>\n",
       "    .dataframe tbody tr th:only-of-type {\n",
       "        vertical-align: middle;\n",
       "    }\n",
       "\n",
       "    .dataframe tbody tr th {\n",
       "        vertical-align: top;\n",
       "    }\n",
       "\n",
       "    .dataframe thead th {\n",
       "        text-align: right;\n",
       "    }\n",
       "</style>\n",
       "<table border=\"1\" class=\"dataframe\">\n",
       "  <thead>\n",
       "    <tr style=\"text-align: right;\">\n",
       "      <th></th>\n",
       "      <th>raw_comments</th>\n",
       "    </tr>\n",
       "  </thead>\n",
       "  <tbody>\n",
       "    <tr>\n",
       "      <th>0</th>\n",
       "      <td>\\n\\n\\n                5\\n                \\n\\n\\...</td>\n",
       "    </tr>\n",
       "    <tr>\n",
       "      <th>1</th>\n",
       "      <td>\\n\\n\\n                4\\n                \\n\\n\\...</td>\n",
       "    </tr>\n",
       "    <tr>\n",
       "      <th>2</th>\n",
       "      <td>\\n\\n\\n                5\\n                \\n\\n\\...</td>\n",
       "    </tr>\n",
       "    <tr>\n",
       "      <th>3</th>\n",
       "      <td>\\n\\n\\n                5\\n                \\n\\n\\...</td>\n",
       "    </tr>\n",
       "    <tr>\n",
       "      <th>4</th>\n",
       "      <td>\\n\\n\\n                4\\n                \\n\\n\\...</td>\n",
       "    </tr>\n",
       "  </tbody>\n",
       "</table>\n",
       "</div>"
      ],
      "text/plain": [
       "                                        raw_comments\n",
       "0  \\n\\n\\n                5\\n                \\n\\n\\...\n",
       "1  \\n\\n\\n                4\\n                \\n\\n\\...\n",
       "2  \\n\\n\\n                5\\n                \\n\\n\\...\n",
       "3  \\n\\n\\n                5\\n                \\n\\n\\...\n",
       "4  \\n\\n\\n                4\\n                \\n\\n\\..."
      ]
     },
     "execution_count": 181,
     "metadata": {},
     "output_type": "execute_result"
    }
   ],
   "source": [
    "import json \n",
    "data = []\n",
    "for i in range(1,15):\n",
    "    with open(f'data/comments_{i}.json', 'r') as file :\n",
    "        for comments in  json.load(file):\n",
    "            for comment in comments:\n",
    "                data.append(comment)\n",
    "import pandas as pd \n",
    "data = pd.DataFrame(\n",
    "    data=data, columns = ['raw_comments']\n",
    ")\n",
    "\n",
    "data.head()"
   ]
  },
  {
   "cell_type": "code",
   "execution_count": 182,
   "metadata": {},
   "outputs": [],
   "source": [
    "import re \n",
    "# extract the ratings \n",
    "data['ratings'] = data.raw_comments.apply( lambda x : int(re.findall('[1-5]+\\n',x)[0].strip()))"
   ]
  },
  {
   "cell_type": "code",
   "execution_count": 184,
   "metadata": {},
   "outputs": [],
   "source": [
    "# remove the ratings from the raw comments \n",
    "data['comments'] = data.raw_comments.apply( lambda x : re.sub('[1-5]\\n','',x).strip()) "
   ]
  },
  {
   "cell_type": "code",
   "execution_count": 185,
   "metadata": {},
   "outputs": [
    {
     "data": {
      "text/html": [
       "<div>\n",
       "<style scoped>\n",
       "    .dataframe tbody tr th:only-of-type {\n",
       "        vertical-align: middle;\n",
       "    }\n",
       "\n",
       "    .dataframe tbody tr th {\n",
       "        vertical-align: top;\n",
       "    }\n",
       "\n",
       "    .dataframe thead th {\n",
       "        text-align: right;\n",
       "    }\n",
       "</style>\n",
       "<table border=\"1\" class=\"dataframe\">\n",
       "  <thead>\n",
       "    <tr style=\"text-align: right;\">\n",
       "      <th></th>\n",
       "      <th>raw_comments</th>\n",
       "      <th>ratings</th>\n",
       "      <th>comments</th>\n",
       "    </tr>\n",
       "  </thead>\n",
       "  <tbody>\n",
       "    <tr>\n",
       "      <th>0</th>\n",
       "      <td>\\n\\n\\n                5\\n                \\n\\n\\...</td>\n",
       "      <td>5</td>\n",
       "      <td>Good one ✌️💖\\n               \\n\\n\\n           ...</td>\n",
       "    </tr>\n",
       "    <tr>\n",
       "      <th>1</th>\n",
       "      <td>\\n\\n\\n                4\\n                \\n\\n\\...</td>\n",
       "      <td>4</td>\n",
       "      <td>This is an amazing watch.but the quality of be...</td>\n",
       "    </tr>\n",
       "    <tr>\n",
       "      <th>2</th>\n",
       "      <td>\\n\\n\\n                5\\n                \\n\\n\\...</td>\n",
       "      <td>5</td>\n",
       "      <td>Awesome 👍👍👍👍👍\\n               \\n\\n\\n          ...</td>\n",
       "    </tr>\n",
       "    <tr>\n",
       "      <th>3</th>\n",
       "      <td>\\n\\n\\n                5\\n                \\n\\n\\...</td>\n",
       "      <td>5</td>\n",
       "      <td>Good condition\\n               \\n\\n\\n         ...</td>\n",
       "    </tr>\n",
       "    <tr>\n",
       "      <th>4</th>\n",
       "      <td>\\n\\n\\n                4\\n                \\n\\n\\...</td>\n",
       "      <td>4</td>\n",
       "      <td>Osm nice 👌 product 👌\\n               \\n\\n\\n   ...</td>\n",
       "    </tr>\n",
       "  </tbody>\n",
       "</table>\n",
       "</div>"
      ],
      "text/plain": [
       "                                        raw_comments  ratings  \\\n",
       "0  \\n\\n\\n                5\\n                \\n\\n\\...        5   \n",
       "1  \\n\\n\\n                4\\n                \\n\\n\\...        4   \n",
       "2  \\n\\n\\n                5\\n                \\n\\n\\...        5   \n",
       "3  \\n\\n\\n                5\\n                \\n\\n\\...        5   \n",
       "4  \\n\\n\\n                4\\n                \\n\\n\\...        4   \n",
       "\n",
       "                                            comments  \n",
       "0  Good one ✌️💖\\n               \\n\\n\\n           ...  \n",
       "1  This is an amazing watch.but the quality of be...  \n",
       "2  Awesome 👍👍👍👍👍\\n               \\n\\n\\n          ...  \n",
       "3  Good condition\\n               \\n\\n\\n         ...  \n",
       "4  Osm nice 👌 product 👌\\n               \\n\\n\\n   ...  "
      ]
     },
     "execution_count": 185,
     "metadata": {},
     "output_type": "execute_result"
    }
   ],
   "source": [
    "data.head()"
   ]
  },
  {
   "cell_type": "code",
   "execution_count": 186,
   "metadata": {},
   "outputs": [],
   "source": [
    "# calculate the percentages of the ratings \n",
    "rating_percentages = [(rating, rating_count/data.shape[0] * 100) for rating, rating_count in data.ratings.value_counts().to_dict().items()]"
   ]
  },
  {
   "cell_type": "code",
   "execution_count": 187,
   "metadata": {},
   "outputs": [],
   "source": [
    "import matplotlib.pyplot as plt "
   ]
  },
  {
   "cell_type": "code",
   "execution_count": 188,
   "metadata": {},
   "outputs": [
    {
     "data": {
      "text/plain": [
       "Text(0.5, 1.0, 'Comments Ratings percentages')"
      ]
     },
     "execution_count": 188,
     "metadata": {},
     "output_type": "execute_result"
    },
    {
     "data": {
      "image/png": "[encoded data removed]",
      "text/plain": [
       "<Figure size 640x480 with 1 Axes>"
      ]
     },
     "metadata": {},
     "output_type": "display_data"
    }
   ],
   "source": [
    "rating_percentages = data.ratings.value_counts().to_dict()\n",
    "plt.pie(rating_percentages.values(), labels=rating_percentages.keys(), autopct='%1.2f%%')\n",
    "plt.legend(rating_percentages.keys(), title='comments ratings')\n",
    "plt.title('Comments Ratings percentages')\n"
   ]
  },
  {
   "cell_type": "code",
   "execution_count": 189,
   "metadata": {},
   "outputs": [],
   "source": [
    "data.comments = data.comments.apply( lambda x : re.sub(' +', ' ', x).replace('\\n','').replace('READ MORE','')) # replace multple spaces and \\n"
   ]
  },
  {
   "cell_type": "code",
   "execution_count": 190,
   "metadata": {},
   "outputs": [],
   "source": [
    "data.drop(columns=['raw_comments'], inplace=True)"
   ]
  },
  {
   "cell_type": "code",
   "execution_count": 192,
   "metadata": {},
   "outputs": [],
   "source": [
    "data.to_csv('ratings_comments.csv', index=False, index_label=False)\n",
    "data = pd.read_csv('ratings_comments.csv')\n"
   ]
  },
  {
   "cell_type": "code",
   "execution_count": 200,
   "metadata": {},
   "outputs": [
    {
     "data": {
      "text/html": [
       "<div>\n",
       "<style scoped>\n",
       "    .dataframe tbody tr th:only-of-type {\n",
       "        vertical-align: middle;\n",
       "    }\n",
       "\n",
       "    .dataframe tbody tr th {\n",
       "        vertical-align: top;\n",
       "    }\n",
       "\n",
       "    .dataframe thead th {\n",
       "        text-align: right;\n",
       "    }\n",
       "</style>\n",
       "<table border=\"1\" class=\"dataframe\">\n",
       "  <thead>\n",
       "    <tr style=\"text-align: right;\">\n",
       "      <th></th>\n",
       "      <th>ratings</th>\n",
       "      <th>comments</th>\n",
       "    </tr>\n",
       "  </thead>\n",
       "  <tbody>\n",
       "    <tr>\n",
       "      <th>10684</th>\n",
       "      <td>5</td>\n",
       "      <td>thought that the product was a standard one bu...</td>\n",
       "    </tr>\n",
       "    <tr>\n",
       "      <th>10385</th>\n",
       "      <td>4</td>\n",
       "      <td>OK but moving pin not properly work</td>\n",
       "    </tr>\n",
       "    <tr>\n",
       "      <th>7384</th>\n",
       "      <td>1</td>\n",
       "      <td>Cell is dim it doesn't work properly 😔</td>\n",
       "    </tr>\n",
       "    <tr>\n",
       "      <th>2599</th>\n",
       "      <td>4</td>\n",
       "      <td>Nice watches</td>\n",
       "    </tr>\n",
       "    <tr>\n",
       "      <th>2031</th>\n",
       "      <td>2</td>\n",
       "      <td>it's a good product &amp; superb looks</td>\n",
       "    </tr>\n",
       "    <tr>\n",
       "      <th>9673</th>\n",
       "      <td>5</td>\n",
       "      <td>This watch ⌚ very nice and looked. I like this...</td>\n",
       "    </tr>\n",
       "    <tr>\n",
       "      <th>11373</th>\n",
       "      <td>5</td>\n",
       "      <td>Good.</td>\n",
       "    </tr>\n",
       "    <tr>\n",
       "      <th>6037</th>\n",
       "      <td>5</td>\n",
       "      <td>Nice watch</td>\n",
       "    </tr>\n",
       "    <tr>\n",
       "      <th>8806</th>\n",
       "      <td>5</td>\n",
       "      <td>Superb watch, must buy</td>\n",
       "    </tr>\n",
       "    <tr>\n",
       "      <th>12763</th>\n",
       "      <td>4</td>\n",
       "      <td>Best product for kids</td>\n",
       "    </tr>\n",
       "  </tbody>\n",
       "</table>\n",
       "</div>"
      ],
      "text/plain": [
       "       ratings                                           comments\n",
       "10684        5  thought that the product was a standard one bu...\n",
       "10385        4              OK but moving pin not properly work  \n",
       "7384         1           Cell is dim it doesn't work properly 😔  \n",
       "2599         4                                     Nice watches  \n",
       "2031         2               it's a good product & superb looks  \n",
       "9673         5  This watch ⌚ very nice and looked. I like this...\n",
       "11373        5                                            Good.  \n",
       "6037         5                                       Nice watch  \n",
       "8806         5                           Superb watch, must buy  \n",
       "12763        4                            Best product for kids  "
      ]
     },
     "execution_count": 200,
     "metadata": {},
     "output_type": "execute_result"
    }
   ],
   "source": [
    "data.sample(n=10)"
   ]
  },
  {
   "cell_type": "code",
   "execution_count": 196,
   "metadata": {},
   "outputs": [
    {
     "data": {
      "text/html": [
       "<div>\n",
       "<style scoped>\n",
       "    .dataframe tbody tr th:only-of-type {\n",
       "        vertical-align: middle;\n",
       "    }\n",
       "\n",
       "    .dataframe tbody tr th {\n",
       "        vertical-align: top;\n",
       "    }\n",
       "\n",
       "    .dataframe thead th {\n",
       "        text-align: right;\n",
       "    }\n",
       "</style>\n",
       "<table border=\"1\" class=\"dataframe\">\n",
       "  <thead>\n",
       "    <tr style=\"text-align: right;\">\n",
       "      <th></th>\n",
       "      <th>ratings</th>\n",
       "      <th>comments</th>\n",
       "    </tr>\n",
       "  </thead>\n",
       "  <tbody>\n",
       "    <tr>\n",
       "      <th>10736</th>\n",
       "      <td>5</td>\n",
       "      <td>Awesome product</td>\n",
       "    </tr>\n",
       "    <tr>\n",
       "      <th>1097</th>\n",
       "      <td>5</td>\n",
       "      <td>Fell like a expencive 🥰😊</td>\n",
       "    </tr>\n",
       "    <tr>\n",
       "      <th>10634</th>\n",
       "      <td>5</td>\n",
       "      <td>It's a gift for my Dad. He liked it. So stylis...</td>\n",
       "    </tr>\n",
       "    <tr>\n",
       "      <th>10106</th>\n",
       "      <td>5</td>\n",
       "      <td>Classic, stylish stainless steel watch. Genuin...</td>\n",
       "    </tr>\n",
       "    <tr>\n",
       "      <th>10137</th>\n",
       "      <td>2</td>\n",
       "      <td>It's date section is not working</td>\n",
       "    </tr>\n",
       "    <tr>\n",
       "      <th>9881</th>\n",
       "      <td>5</td>\n",
       "      <td>So great 💖💖💖💖😍😍😍😍💖💖💖💖. Thanku Limestone &amp; than...</td>\n",
       "    </tr>\n",
       "    <tr>\n",
       "      <th>1869</th>\n",
       "      <td>5</td>\n",
       "      <td>Classy watch at this price by Titan...  the be...</td>\n",
       "    </tr>\n",
       "    <tr>\n",
       "      <th>5788</th>\n",
       "      <td>4</td>\n",
       "      <td>Good at this price range.  Update after 1 year...</td>\n",
       "    </tr>\n",
       "    <tr>\n",
       "      <th>10049</th>\n",
       "      <td>4</td>\n",
       "      <td>Fabulous watch</td>\n",
       "    </tr>\n",
       "    <tr>\n",
       "      <th>194</th>\n",
       "      <td>4</td>\n",
       "      <td>Good</td>\n",
       "    </tr>\n",
       "  </tbody>\n",
       "</table>\n",
       "</div>"
      ],
      "text/plain": [
       "       ratings                                           comments\n",
       "10736        5                                  Awesome product  \n",
       "1097         5                         Fell like a expencive 🥰😊  \n",
       "10634        5  It's a gift for my Dad. He liked it. So stylis...\n",
       "10106        5  Classic, stylish stainless steel watch. Genuin...\n",
       "10137        2                 It's date section is not working  \n",
       "9881         5  So great 💖💖💖💖😍😍😍😍💖💖💖💖. Thanku Limestone & than...\n",
       "1869         5  Classy watch at this price by Titan...  the be...\n",
       "5788         4  Good at this price range.  Update after 1 year...\n",
       "10049        4                                   Fabulous watch  \n",
       "194          4                                             Good  "
      ]
     },
     "execution_count": 196,
     "metadata": {},
     "output_type": "execute_result"
    }
   ],
   "source": [
    "data.sample(n=10)"
   ]
  },
  {
   "cell_type": "code",
   "execution_count": 203,
   "metadata": {},
   "outputs": [
    {
     "name": "stderr",
     "output_type": "stream",
     "text": [
      "2024-03-13 14:49:25,332 | INFO | category.py:223 | update | Using categorical units to plot a list of strings that are all parsable as floats or dates. If these strings should be plotted as numbers, cast to the appropriate data type before plotting.\n",
      "2024-03-13 14:49:25,357 | INFO | category.py:223 | update | Using categorical units to plot a list of strings that are all parsable as floats or dates. If these strings should be plotted as numbers, cast to the appropriate data type before plotting.\n"
     ]
    },
    {
     "data": {
      "text/plain": [
       "<Axes: xlabel='ratings', ylabel='count'>"
      ]
     },
     "execution_count": 203,
     "metadata": {},
     "output_type": "execute_result"
    },
    {
     "data": {
      "image/png": "[encoded data removed]",
      "text/plain": [
       "<Figure size 640x480 with 1 Axes>"
      ]
     },
     "metadata": {},
     "output_type": "display_data"
    }
   ],
   "source": [
    "import seaborn as sns \n",
    "\n",
    "sns.countplot(data=data, \n",
    "              x='ratings', \n",
    "              order=data.ratings.value_counts().index)"
   ]
  }
 ],
 "metadata": {
  "kernelspec": {
   "display_name": "env",
   "language": "python",
   "name": "python3"
  },
  "language_info": {
   "codemirror_mode": {
    "name": "ipython",
    "version": 3
   },
   "file_extension": ".py",
   "mimetype": "text/x-python",
   "name": "python",
   "nbconvert_exporter": "python",
   "pygments_lexer": "ipython3",
   "version": "3.11.5"
  }
 },
 "nbformat": 4,
 "nbformat_minor": 2
}
